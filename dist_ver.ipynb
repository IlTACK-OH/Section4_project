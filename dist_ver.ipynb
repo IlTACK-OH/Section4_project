{
  "nbformat": 4,
  "nbformat_minor": 0,
  "metadata": {
    "colab": {
      "provenance": [],
      "authorship_tag": "ABX9TyPbRrKvyyn0ypiHo6t2yk8s",
      "include_colab_link": true
    },
    "kernelspec": {
      "name": "python3",
      "display_name": "Python 3"
    },
    "language_info": {
      "name": "python"
    }
  },
  "cells": [
    {
      "cell_type": "markdown",
      "metadata": {
        "id": "view-in-github",
        "colab_type": "text"
      },
      "source": [
        "<a href=\"https://colab.research.google.com/github/IlTACK-OH/Section4_project/blob/main/dist_ver.ipynb\" target=\"_parent\"><img src=\"https://colab.research.google.com/assets/colab-badge.svg\" alt=\"Open In Colab\"/></a>"
      ]
    },
    {
      "cell_type": "markdown",
      "source": [
        "# YOLOv5로 구현한 자동차, 보행자, 바이커 등을 인식하는 객체인식 모델\n",
        "프로젝트에서 사용된 모델의 가중치를 불러와 사용할 수 있습니다.\n",
        "<br>\n",
        "먼저, YOLOv5의 Github를 `clone`을 통하여 불러옵니다."
      ],
      "metadata": {
        "id": "ImiwETSnuaQ4"
      }
    },
    {
      "cell_type": "code",
      "execution_count": null,
      "metadata": {
        "id": "HZiCJrDMuZdG"
      },
      "outputs": [],
      "source": [
        "%cd /content\n",
        "! git clone https://github.com/ultralytics/yolov5\n",
        "%cd yolov5\n",
        "%pip install -qr requirements.txt"
      ]
    },
    {
      "cell_type": "markdown",
      "source": [
        "# 학습된 가중치 불러오기"
      ],
      "metadata": {
        "id": "SA8_LrhNQuEH"
      }
    },
    {
      "cell_type": "code",
      "source": [
        "%cd /content\n",
        "! git clone https://github.com/IlTACK-OH/Section4_project.git"
      ],
      "metadata": {
        "id": "VrskGrIFuiNh"
      },
      "execution_count": null,
      "outputs": []
    },
    {
      "cell_type": "markdown",
      "source": [
        "# 테스트 파일 업로드 방법\n",
        "1. 직접 파일을 Colab에 업로드합니다.\n",
        "2. 구글 드라이브와 연동하여 파일을 불러옵니다.\n",
        "3. 이미지Url 또는 영상 Url을 직접 입력합니다."
      ],
      "metadata": {
        "id": "7FLVPpZQQ1iB"
      }
    },
    {
      "cell_type": "code",
      "source": [
        "# 파일을 코랩에 업로드 하고 싶을 경우 실행\n",
        "from google.colab import files\n",
        "files.upload()"
      ],
      "metadata": {
        "id": "4vndYi6ZPtRR"
      },
      "execution_count": null,
      "outputs": []
    },
    {
      "cell_type": "code",
      "source": [
        "# 구글 드라이브 파일을 불러오고 싶을 때 실행\n",
        "from google.colab import drive\n",
        "drive.mount('/content/drive')"
      ],
      "metadata": {
        "id": "FtXNlE1oP80A"
      },
      "execution_count": null,
      "outputs": []
    },
    {
      "cell_type": "markdown",
      "source": [
        "# 예측\n",
        "모델이 객체인식을 진행합니다.<br>\n",
        "예측 결과 바운딩 박스와 클래스 라벨이 붙은 파일은 코드 출력 내용의 마지막 줄에서 확인할 수 있습니다.\n",
        "보통 `/content/yolov5/runs/detect/exp`에 저장되며\n",
        "반복 실행하면 `exp2`, `exp3`,...파일에 순차적으로 실행 결과가 저장됩니다."
      ],
      "metadata": {
        "id": "zK9-fvNuRDWV"
      }
    },
    {
      "cell_type": "code",
      "source": [
        "!python detect.py --weights /content/Section4_project/best.pt --img 640 --conf 0.4 --source \"\"\"데이터 링크 또는 파일 경로 입력위치\"\"\""
      ],
      "metadata": {
        "id": "GsrV5L8zv0Ct"
      },
      "execution_count": null,
      "outputs": []
    }
  ]
}